{
 "cells": [
  {
   "cell_type": "markdown",
   "metadata": {},
   "source": [
    "# COGS 118A- Project Proposal"
   ]
  },
  {
   "cell_type": "markdown",
   "metadata": {},
   "source": [
    "### Peer Review\n",
    "\n",
    "You will all have an opportunity to look at the Project Proposals of other groups to fuel your creativity and get more ideas for how you can improve your own projects. \n",
    "\n",
    "Both the project proposal and project checkpoint will have peer review."
   ]
  },
  {
   "cell_type": "markdown",
   "metadata": {},
   "source": [
    "# Names\n",
    "\n",
    "- Kyle Moore | kcm004@ucsd.edu \n",
    "- Sebastian Balica | sbalica@ucsd.edu \n",
    "- Javon Maxie | jmaxie@ucsd.edu \n",
    "- Sam Woo | sdwoo@ucsd.edu "
   ]
  },
  {
   "cell_type": "markdown",
   "metadata": {},
   "source": [
    "# Abstract \n",
    "\n",
    "We will use regular season statistics of NBA players from [basketball reference](https://www.basketball-reference.com/) to predict voting results for All NBA awards. All NBA awards are highly prestigious and directly impact how much money a player can earn, as well as the betting market surrounding awards. The data will be cleaned using minute and year restrictions, and labeling whether or not a player was All NBA. Modeling will be performed with various classification methods from python’s sklearn: k nearest neighbors, support vector machines, and random forest; to determine the best prediction accuracy as well as the most impactful statistics(feature selection) a player can have. We will determine success through the classification reports including the F-Scores of each classification model due it being one of the better assessors when using imbalanced data, such as 15 All NBA players vs ~500 total players per year."
   ]
  },
  {
   "cell_type": "markdown",
   "metadata": {},
   "source": [
    "# Background\n",
    "\n",
    "The All-NBA Team is an honor given to 15 players at the end of the each season. Media members vote on the league's best players and defenders, with two guards, two forwards, and one center picked for each team. This recognition, and voting process has been happening since 1956, with experts and sports enthusiasts making predictions on which players will make the All-NBA Team based on their statistics in the previous season. Sports predictions will take into consideration the average points, rebounds, assists, steals, and blocks per game for every player, in determining who has the highest chance of being awarded. Despite these strong predictions, how the selections are made has been a matter of controversy. Currently players are chosen according to positions, however this becomes a problem when players are considered multi-positional<a name=\"golliver\"></a>[<sup>[1]</sup>](#gollivernote) or, for example, the two best players in the league are centers. One of these players will be bumped down to the second team despite being a top five player in the NBA. Using machine learning and player data, it can be decided which players really deserve to be on the All-NBA Team regardless of position. \n",
    "\n",
    "There have been lots of models, both personal and professional, that have been created to help predict anything that can happen in sports. While some of this is fan and \"stathead\" related, it also coincides with sports betting doubling in 2021<a name=\"marquardt\"></a>[<sup>[2]</sup>](#marquardtnote) and the desire to gain an edge. Being able to predict sports through statistics can also be lucrative for finding talent, such as the famous \"moneyball\" scenario of the Oakland A's. Data analytics have also completely changed the way that games are played, coached, and practiced<a name=\"cohen\"></a>[<sup>[3]</sup>](#cohennote). There have been previous attempts at using both classification and linear regression to predict NBA awards such as most valuable player(MVP), offensive and defensive players of the year(OPOY,DPOY), rookie of the year(ROY), and even whether or not someone will be inducted into the Hall of Fame.\n",
    "\n",
    "One article details the use of regression to predict the MVP by considering \"MVP share\" as a numerical target<a name=\"yoo\"></a>[<sup>[4]</sup>](#yoonote). They used the same dataset that we used in addition to their MVP voting data, and also linked to a [web scraper](https://github.com/jaebradley/basketball_reference_web_scraper) that might be something to consider if we have trouble getting all of the data that we need. Yoo was able to acheive an accuracy of ~.83 using an XGBoost Regressor. We won't be able to use regression due to our problem being a classification problem, whether someone is on the All NBA team or not. \n",
    "\n",
    "Albert et al.<a name=\"albert\"></a>[<sup>[5]</sup>](#albertnote) used Adaboost, random forest, and multilayer perceptron classifications to predict All Star results as opposed to All NBA. They were able to achieve an accuracy ~.9. They did do a preliminary, 40-fold cross-validation sensitivity test that included other models: SVC, k-nearest neighbor, decision tree, gaussian process; but it was determined that RF, Adaboost, and MLP were the best to move forward with. We will be using one model that they chose, RF, and two models they did not, SVC and KNN. \n",
    "\n",
    "Since we are planning on predicting only whether or not a player makes All NBA as ooposed to whether they make 1st, 2nd, or 3rd team, we are hoping to achieve similar results to the projects above. A logical future step would be to predict position voted for and which team they made. We feel that All NBA is less studied yet very important due to its impact on player salaries, such as Celtic's Jayson Tatum losing out on $32.6 million due to missing All NBA<a name=\"darren\"></a>[<sup>[6]</sup>](#darrennote), as well as their overall legacy. Being able to predict these results could also help determine future salary cap considerations, trade values, betting before the lines change, and knowledge of which skills are most important for consideration."
   ]
  },
  {
   "cell_type": "markdown",
   "metadata": {},
   "source": [
    "# Problem Statement\n",
    "\n",
    "Predicting whether a player will make or not make an All NBA team using their regular season statistics. Regular season statistics include points, assists, ft%, etc. and are very quantifiable due to the nature of sport statistics. The All NBA results will be the class labels (0/1). There are many machine learning classification options that can be applied and tuned to this problem (we will use KNN/SVM/RF). We can test the accuracy on test seasons after creating the models on training seasons. Due to the annual nature of the NBA, this problem is repeatable and the model will be applicable to future seasons. "
   ]
  },
  {
   "cell_type": "markdown",
   "metadata": {},
   "source": [
    "# Data\n",
    "\n",
    "The data that we plan to use will be obtained from Basketball Reference. We specifically are planning on combining the data that indicates which players were voted to the All NBA team each year with the total season statistics for all players that played that season, with the goal of building a model off of how total season statistics can indicate if a player is All NBA or not. The data from Basketball Reference is very easy to export and working with it shouldn’t be difficult. \n",
    "\n",
    "Given that each season has about 500 players on average and that there are over 80 seasons of data available, there is definitely enough data. However, the All NBA 3rd team was introduced in the 88-89 season, but even using data from that point onward, there are 33 seasons available and roughly 16,500 data points. Just based on the basic statistics and ignoring the advanced ones, there are 25 variables available per observation to use (ex: points, assists, ft%, etc.). An observation (a player) consists of their 25 season statistic totals, as well as a label that will indicate whether they were voted All NBA or not (perhaps binary 0/1). We will be ignoring player names and their teams, as well as their positions at first, but accounting for position may be an interesting follow up. \n",
    "\n",
    "Some cleaning that will need to be done is accounting for players who played for multiple teams in a season, whether it be by trade or signing. For example, for a player who played for 2 teams in a season, their stats are represented with 3 rows: 1 being their season total, 1 their totals with one team, and the other being their totals with the other team. Cleaning will require removing the latter 2 rows and just keeping the row that contains the accumulated season total with both teams. It also might be a good idea to set a floor requirement on minutes or games played, just to remove any outliers from the data (i.e. players who only played one game will have significantly different seasons totals from regular starters/role players). "
   ]
  },
  {
   "cell_type": "markdown",
   "metadata": {},
   "source": [
    "# Proposed Solution\n",
    "\n",
    "In the NBA, voting for All NBA teams can be very biased and inconsistent each year. A proposed solution we have is to instead of letting a committee of people vote, we can set a standard for players to make All NBA teams using the stats of players from previous years that made All-NBA as well. Using libraries like panda, numpy, and sklearn, we can build a classifier that will have the ability to decide whether an NBA player has met the standard to make an All-NBA team at the end of a season. Some of the model fits we plan on testing include  random forest, KNN, and SVM. These are subject to change and we can always add more to the list.  Our classifier will help weed out controversy and potential bias that the committed has been accused of showing towards certain players for their All-NBA team selections in the past"
   ]
  },
  {
   "cell_type": "markdown",
   "metadata": {},
   "source": [
    "# Evaluation Metrics\n",
    "\n",
    "One way we are going to evaluate the success of our model is by using an accuracy score from the sklearn library. This will allow us to gauge and see how well the model is performing when it comes to predicting players to be selected to the All-NBA teams. Another way we are going to evaluate our data is by using a classification report from sklearn as well. Since there are so many factors that go into a player making All NBA, like points, steals, rebounds, blocks, etc, by using a classification report, we will be able to see how well our model is predicting each feature. For example, say our model wasn’t predicting a player’s points with high precision, we would not be able to tell using an accuracy score since that metric measures the overall accuracy of the entire model. A classification report will allow us to see the precision of our model on the feature level and distinguish which ones are performing well or not within the model."
   ]
  },
  {
   "cell_type": "markdown",
   "metadata": {},
   "source": [
    "# Ethics & Privacy"
   ]
  },
  {
   "cell_type": "markdown",
   "metadata": {},
   "source": [
    "Potential ethical implications of using a model to predict All NBA players include indirectly altering the game and playstyles, by indicating that a certain playstyle is more likely to be rewarded with All NBA votes over other playstyles. Consequently, all players may try to model their games after this select playstyle, which could result in the NBA becoming less entertaining and more rigid and monotonous. \n",
    "\n",
    "Anything sports related must consider gambling and its effects on people as well. Betting on All NBA teams exists but is a season long bet, and our model won't have the reach or power to have an impact on bets or opinions but it is important to acknowledge for any future work. The data itself is free use from basketball reference and they only charge for custom sets. More about their data use rules can be read on [their page](https://www.sports-reference.com/data_use.html).\n",
    "\n",
    "Moreover, in a broader scope of things, singling out what statistics are most indicative of making an All NBA player may result in decreased appreciation for those unselfish players who sacrifice their individual statistics in order to increase team performance. These players would never get their due recognition, as they would be overshadowed by the “logically correct” players determined by the model. Though to an extent, both of these phenomena are things that are already happening in the league today. "
   ]
  },
  {
   "cell_type": "markdown",
   "metadata": {},
   "source": [
    "# Team Expectations "
   ]
  },
  {
   "cell_type": "markdown",
   "metadata": {},
   "source": [
    "- We expect equal contributions from all team members (unless extra work is voluntary).\n",
    "- We expect respectful and timely communication, largely through Discord.\n",
    "- We will make decisions based on group consensus or majority vote.\n",
    "- We will do early week check-ins to establish responsibilities and then meet again to confirm completion.\n",
    "- If issues arise, we’ll communicate with one another and ensure that everyone’s input is heard. If our issue cannot be resolved, we agree to contact the professor or the TA for further guidance."
   ]
  },
  {
   "cell_type": "markdown",
   "metadata": {},
   "source": [
    "# Project Timeline Proposal"
   ]
  },
  {
   "cell_type": "markdown",
   "metadata": {},
   "source": [
    "| Meeting Date  | Meeting Time| Completed Before Meeting  | Discuss at Meeting |\n",
    "|---|---|---|---|\n",
    "| 4/25  |  7 PM |  N/A  | First steps, download datasets, begin cleaning | \n",
    "| 4/29 | 11:59 PM | First Peer Reviews Due | Turn in all required reviews |\n",
    "| 5/2  |  7 PM |  Finish cleaning | EDA ideas, Dataset problems? Discuss the reviews of our project | \n",
    "| 5/9  | 7 PM  | Finish EDA and Dataset in correct form for modelling | Assign different models to group members/Catchup |\n",
    "| 5/13 | 11:59 PM | Checkpoint: data processed, EDA started, clear idea of next steps and pilot results | Turn in Checkpoint Requirements |\n",
    "| 5/16 | 7 PM  | Have attempts for all desired models | Discuss issues and potential pivots, or plan for finishing models |\n",
    "| 5/20 | 11:59 PM | Checkpoint: Peer Reviews due | Turn in Peer Reviews |\n",
    "| 5/23 | 7 PM  | Finalize Rough Draft of Project | Discuss/edit project code; Complete project |\n",
    "| 5/30 | 7 PM  | Complete analysis; Draft results/conclusion/discussion| Discuss/edit full project |\n",
    "| 6/8  | N/A  | Final revisions | Turn in Final Project  |"
   ]
  },
  {
   "cell_type": "markdown",
   "metadata": {},
   "source": [
    "# Footnotes\n",
    "\n",
    "<a name=\"gollivernote\"></a>1.[^](#golliver): Golliver, B. (2021, May 11). Analysis | the all-NBA ballot is a bit of a mess thanks to position confusion. The Washington Post. Retrieved April 24, 2022, from https://www.washingtonpost.com/sports/2021/05/10/all-nba-teams-ballot-position-problems/ \n",
    "\n",
    "<a name=\"marquardtnote\"></a>2.[^](#marquardt):Marquardt, A. (2022, January 25). Legalized sports betting in the U.S. doubled in 2021. here's why that will continue after 'the greatest weekend in NFL playoff history.'. Fortune. Retrieved April 24, 2022, from https://fortune.com/2022/01/24/legalized-sports-betting-in-the-u-s-doubled-in-2021-heres-why-that-will-continue-after-the-greatest-weekend-in-nfl-playoff-history/#:~:text=Overall%2C%20the%20number%20of%20Americans,National%20Council%20on%20Problem%20Gambling. \n",
    "\n",
    "<a name=\"cohennote\"></a>3.[^](#cohen):Cohen, B., Diamond, J., &amp; Beaton, A. (2019, December 19). The decade when numbers broke sports. The Wall Street Journal. Retrieved April 24, 2022, from https://www.wsj.com/articles/2010s-decade-when-numbers-broke-sports-11576710216 \n",
    "\n",
    "<a name=\"yoonote\"></a>4.[^](#yoo):Yoo, D. (2022, February 16). Predicting the next NBA MVP using Machine Learning. Medium. Retrieved April 24, 2022, from https://towardsdatascience.com/predicting-the-next-nba-mvp-using-machine-learning-62615bfcff75 \n",
    "\n",
    "<a name=\"albertnote\"></a>5.[^](#albert):Albert, A.A.; de Mingo López, L.F.; Allbright, K.; Gomez Blas, N. A Hybrid Machine Learning Model for Predicting USA NBA All-Stars. Electronics 2022, 11, 97. https://doi.org/10.3390/electronics11010097\n",
    "\n",
    "<a name=\"darrennote\"></a>6.[^](#darren):Darren Hartwell. (2021, June 29). How Tatum wants all-NBA voting process to change after snub. RSN. Retrieved April 24, 2022, from https://www.nbcsports.com/boston/celtics/celtics-jayson-tatum-reacts-all-nba-snub-losing-out-33m#:~:text=The%20Boston%20Celtics%20star%20just,to%20his%20upcoming%20contract%20extension. "
   ]
  }
 ],
 "metadata": {
  "kernelspec": {
   "display_name": "Python 3 (ipykernel)",
   "language": "python",
   "name": "python3"
  },
  "language_info": {
   "codemirror_mode": {
    "name": "ipython",
    "version": 3
   },
   "file_extension": ".py",
   "mimetype": "text/x-python",
   "name": "python",
   "nbconvert_exporter": "python",
   "pygments_lexer": "ipython3",
   "version": "3.8.12"
  }
 },
 "nbformat": 4,
 "nbformat_minor": 2
}
